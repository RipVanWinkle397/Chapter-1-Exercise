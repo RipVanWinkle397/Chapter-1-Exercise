{
 "cells": [
  {
   "cell_type": "markdown",
   "id": "aa730ab7-e468-491b-868a-cc5dd57239a8",
   "metadata": {},
   "source": [
    "# Chapter 1 Ex.\n",
    "Problems 1, 3, 4"
   ]
  },
  {
   "cell_type": "markdown",
   "id": "bc535cd6-0c01-4b4a-8335-17f4e335a8ef",
   "metadata": {},
   "source": [
    "## Ex 1"
   ]
  },
  {
   "cell_type": "code",
   "execution_count": 3,
   "id": "b8e4ad49-3a1d-49a6-930b-9b80dd396eb5",
   "metadata": {},
   "outputs": [
    {
     "name": "stdout",
     "output_type": "stream",
     "text": [
      "This is a test of the Python interpreter\n"
     ]
    }
   ],
   "source": [
    "print('This is a test of the Python interpreter')"
   ]
  },
  {
   "cell_type": "code",
   "execution_count": 4,
   "id": "c617396a-3a80-4460-ac95-239842cc1608",
   "metadata": {},
   "outputs": [
    {
     "name": "stdout",
     "output_type": "stream",
     "text": [
      "This might work: 9\n"
     ]
    }
   ],
   "source": [
    "print('This might work:', 9)"
   ]
  },
  {
   "cell_type": "markdown",
   "id": "457a33c9-5092-4a63-b06c-a19f89115a00",
   "metadata": {},
   "source": [
    "## Ex 3"
   ]
  },
  {
   "cell_type": "markdown",
   "id": "35fd2e13-3d30-4d82-a795-c5b92e0cfcdf",
   "metadata": {},
   "source": []
  }
 ],
 "metadata": {
  "kernelspec": {
   "display_name": "Python 3 (ipykernel)",
   "language": "python",
   "name": "python3"
  },
  "language_info": {
   "codemirror_mode": {
    "name": "ipython",
    "version": 3
   },
   "file_extension": ".py",
   "mimetype": "text/x-python",
   "name": "python",
   "nbconvert_exporter": "python",
   "pygments_lexer": "ipython3",
   "version": "3.11.7"
  }
 },
 "nbformat": 4,
 "nbformat_minor": 5
}
